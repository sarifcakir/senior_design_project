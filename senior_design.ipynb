{
 "cells": [
  {
   "cell_type": "code",
   "execution_count": null,
   "id": "0e45c9d4",
   "metadata": {},
   "outputs": [],
   "source": [
    "import pandas as pd\n",
    "import numpy as np\n",
    "import matplotlib.pyplot as plt\n",
    "import seaborn as sns\n"
   ]
  },
  {
   "cell_type": "code",
   "execution_count": null,
   "id": "40e9b84e",
   "metadata": {},
   "outputs": [],
   "source": [
    "sales = pd.read_excel(\"all_data.xlsx\")"
   ]
  },
  {
   "cell_type": "code",
   "execution_count": null,
   "id": "5a577754",
   "metadata": {},
   "outputs": [],
   "source": [
    "sales.head()"
   ]
  },
  {
   "cell_type": "code",
   "execution_count": null,
   "id": "ad4ede70",
   "metadata": {},
   "outputs": [],
   "source": [
    "grade_codes = {\n",
    "    1096: 4,\n",
    "    2177: 3,\n",
    "    2189: 4,\n",
    "    3328: 2,\n",
    "    3349: 3,\n",
    "    3889: 0,\n",
    "    4388: 1,\n",
    "    4816: 1,\n",
    "    5136: 3\n",
    "}"
   ]
  },
  {
   "cell_type": "code",
   "execution_count": null,
   "id": "56811c04",
   "metadata": {},
   "outputs": [],
   "source": [
    "sales['grade_code'] = sales['magaza_no'].map(grade_codes)"
   ]
  },
  {
   "cell_type": "code",
   "execution_count": null,
   "id": "144cf3c9",
   "metadata": {},
   "outputs": [],
   "source": [
    "sales[\"tarih\"] = pd.to_datetime(sales[\"tarih\"])"
   ]
  },
  {
   "cell_type": "code",
   "execution_count": null,
   "id": "8e672214",
   "metadata": {},
   "outputs": [],
   "source": [
    "sales.head()"
   ]
  },
  {
   "cell_type": "code",
   "execution_count": null,
   "id": "2e1c0855",
   "metadata": {},
   "outputs": [],
   "source": [
    "filtered_items = [8011001, 8011003, 8010903, 8011740, 8011002, 8017442, 8011605, 8010810]\n",
    "filtered_items.sort()"
   ]
  },
  {
   "cell_type": "code",
   "execution_count": null,
   "id": "99bf9a9d",
   "metadata": {},
   "outputs": [],
   "source": [
    "selected_sales = sales[sales[\"mal_no\"].isin(filtered_items)]"
   ]
  },
  {
   "cell_type": "code",
   "execution_count": null,
   "id": "89abcc2f",
   "metadata": {},
   "outputs": [],
   "source": [
    "selected_sales.info()"
   ]
  },
  {
   "cell_type": "code",
   "execution_count": null,
   "id": "66a072e4",
   "metadata": {},
   "outputs": [],
   "source": [
    "selected_sales = selected_sales.sort_values(by=['magaza_no', 'mal_no', 'tarih']).reset_index(drop=True)"
   ]
  },
  {
   "cell_type": "code",
   "execution_count": null,
   "id": "a0cc3cb9",
   "metadata": {},
   "outputs": [],
   "source": [
    "selected_sales.head()"
   ]
  },
  {
   "cell_type": "code",
   "execution_count": null,
   "id": "f4c5f384",
   "metadata": {},
   "outputs": [],
   "source": [
    "grouped_sales = selected_sales.groupby([\"magaza_no\", \"mal_no\"])[\"toplam_satis_adet\"].apply(list).reset_index()"
   ]
  },
  {
   "cell_type": "code",
   "execution_count": null,
   "id": "309db95a",
   "metadata": {},
   "outputs": [],
   "source": [
    "grouped_sales.head(20)"
   ]
  },
  {
   "cell_type": "code",
   "execution_count": null,
   "id": "a215e2e0",
   "metadata": {
    "slideshow": {
     "slide_type": "slide"
    }
   },
   "outputs": [],
   "source": [
    "import pandas as pd\n",
    "import numpy as np\n",
    "import matplotlib.pyplot as plt\n",
    "import seaborn as sns\n",
    "import scipy.stats as stats\n",
    "\n",
    "# DataFrame'in yüklendiğini varsayıyoruz\n",
    "df = grouped_sales  # Senin paylaştığın dataframe adı\n",
    "\n",
    "# Her bir magaza_no, mal_no çifti için analiz yapalım\n",
    "for index, row in df.iterrows():\n",
    "    sales_data = row['toplam_satis_adet']\n",
    "    magaza = row['magaza_no']\n",
    "    mal = row['mal_no']\n",
    "    \n",
    "    # Histogram çizimi\n",
    "    plt.figure(figsize=(4, 3))\n",
    "    sns.histplot(sales_data, kde=True, bins=20)\n",
    "    plt.title(f'Sales Distribution - Store {magaza}, Product {mal}')\n",
    "    plt.xlabel('Sales Count')\n",
    "    plt.ylabel('Frequency')\n",
    "    plt.show()\n",
    "    \n",
    "    # Dağılım belirleme\n",
    "    distributions = ['norm', 'expon', 'gamma', 'lognorm', 'weibull_min']  # poisson kaldırıldı\n",
    "    best_fit = {}\n",
    "    \n",
    "    for dist_name in distributions:\n",
    "        dist = getattr(stats, dist_name)\n",
    "        params = dist.fit(sales_data)\n",
    "        \n",
    "        # KS Testi (Kolmogorov-Smirnov) ile uygunluğu kontrol et\n",
    "        ks_stat, p_value = stats.kstest(sales_data, lambda x: dist.cdf(x, *params))\n",
    "        best_fit[dist_name] = p_value\n",
    "    \n",
    "    # En iyi dağılımı belirleme\n",
    "    best_dist = max(best_fit, key=best_fit.get)\n",
    "    print(f'Magaza {magaza}, Mal {mal} -> En iyi dağılım: {best_dist} (p={best_fit[best_dist]:.4f})')\n"
   ]
  },
  {
   "cell_type": "code",
   "execution_count": null,
   "id": "4e5d5088",
   "metadata": {
    "slideshow": {
     "slide_type": "slide"
    }
   },
   "outputs": [],
   "source": []
  },
  {
   "cell_type": "code",
   "execution_count": null,
   "id": "0a2943f2",
   "metadata": {},
   "outputs": [],
   "source": []
  }
 ],
 "metadata": {
  "kernelspec": {
   "display_name": "Python 3 (ipykernel)",
   "language": "python",
   "name": "python3"
  },
  "language_info": {
   "codemirror_mode": {
    "name": "ipython",
    "version": 3
   },
   "file_extension": ".py",
   "mimetype": "text/x-python",
   "name": "python",
   "nbconvert_exporter": "python",
   "pygments_lexer": "ipython3",
   "version": "3.11.5"
  }
 },
 "nbformat": 4,
 "nbformat_minor": 5
}
