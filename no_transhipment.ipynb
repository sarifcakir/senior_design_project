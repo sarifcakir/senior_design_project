{
 "cells": [
  {
   "cell_type": "code",
   "execution_count": 1,
   "id": "c22e1679",
   "metadata": {},
   "outputs": [],
   "source": [
    "import time\n",
    "import pandas as pd\n",
    "import numpy as np\n",
    "import math"
   ]
  },
  {
   "cell_type": "code",
   "execution_count": 2,
   "id": "5d4c34f5",
   "metadata": {},
   "outputs": [],
   "source": [
    "current_inventory = {'1': 300,\n",
    "                    '2': 300,\n",
    "                    '3': 100,\n",
    "                    '4': 100,\n",
    "                    '5': 50,\n",
    "                    '6': 250,\n",
    "                    '7': 10,\n",
    "                    '8': 0,\n",
    "                    '9': 1}"
   ]
  },
  {
   "cell_type": "code",
   "execution_count": 3,
   "id": "56aa5489",
   "metadata": {},
   "outputs": [],
   "source": [
    "initial_inventory = current_inventory.copy()"
   ]
  },
  {
   "cell_type": "code",
   "execution_count": 4,
   "id": "ff1dab2f",
   "metadata": {},
   "outputs": [],
   "source": [
    "def reset_inventory():\n",
    "    return initial_inventory.copy()"
   ]
  },
  {
   "cell_type": "code",
   "execution_count": 5,
   "id": "2064b48a",
   "metadata": {},
   "outputs": [],
   "source": [
    "num_stores = 9\n",
    "current_day = 0"
   ]
  },
  {
   "cell_type": "code",
   "execution_count": 6,
   "id": "20186c7a",
   "metadata": {},
   "outputs": [],
   "source": [
    "daily_demands = {'1': [(83,5.8), (15,7), (20,4), (25,6), (10,6), (83,5.8), (20,4)],\n",
    "                '2': [(20,5), (15,7), (20,4), (25,6), (10,6), (10,7), (20,4)],\n",
    "                '3': [(20,5), (15,7), (20,4), (25,6), (10,6), (10,7), (20,4)],\n",
    "                '4': [(20,5), (15,7), (20,4), (25,6), (10,6), (10,7), (20,4)],\n",
    "                '5': [(20,5), (15,7), (20,4), (25,6), (10,6), (10,7), (20,4)],\n",
    "                '6': [(20,5), (15,7), (20,4), (25,6), (10,6), (10,7), (20,4)],\n",
    "                '7': [(20,5), (15,7), (20,4), (25,6), (10,6), (8,5), (20,4)],\n",
    "                '8': [(20,5), (15,7), (20,4), (25,6), (10,6), (6,2), (20,4)],\n",
    "                '9': [(20,5), (15,7), (20,4), (25,6), (10,6), (10,7), (20,4)]}\n"
   ]
  },
  {
   "cell_type": "code",
   "execution_count": null,
   "id": "6972b8aa",
   "metadata": {},
   "outputs": [],
   "source": []
  },
  {
   "cell_type": "code",
   "execution_count": 7,
   "id": "bac1094c",
   "metadata": {},
   "outputs": [],
   "source": [
    "costs = {'stockout': 30,\n",
    "        'holding': 1,\n",
    "        'transshipment': 1}"
   ]
  },
  {
   "cell_type": "code",
   "execution_count": 8,
   "id": "2c8cce1d",
   "metadata": {},
   "outputs": [],
   "source": [
    "def convolution(store_id, start_day):\n",
    "    \n",
    "    store_data = daily_demands[store_id]\n",
    "    future_data = store_data[start_day:]\n",
    "    mean_values = [mean for mean, _ in future_data]\n",
    "    std_dev_values = [std_dev for _, std_dev in future_data]\n",
    "    convoluted_mean = sum(mean_values)\n",
    "    convoluted_st_dev = math.sqrt(sum(x**2 for x in std_dev_values))\n",
    "    return convoluted_mean, convoluted_st_dev"
   ]
  },
  {
   "cell_type": "code",
   "execution_count": 9,
   "id": "646bb3d3",
   "metadata": {},
   "outputs": [
    {
     "data": {
      "text/plain": [
       "(256, 14.84183277092152)"
      ]
     },
     "execution_count": 9,
     "metadata": {},
     "output_type": "execute_result"
    }
   ],
   "source": [
    "convolution('1', current_day)"
   ]
  },
  {
   "cell_type": "code",
   "execution_count": 10,
   "id": "8ab9d062",
   "metadata": {},
   "outputs": [
    {
     "data": {
      "text/plain": [
       "0.9666666666666667"
      ]
     },
     "execution_count": 10,
     "metadata": {},
     "output_type": "execute_result"
    }
   ],
   "source": [
    "p_value = (costs['stockout'] - costs['transshipment']) / (costs['stockout'] + costs['holding'] - costs['transshipment'])\n",
    "ratio=norm.ppf(p_value)"
   ]
  },
  {
   "cell_type": "code",
   "execution_count": 11,
   "id": "3b903631",
   "metadata": {},
   "outputs": [],
   "source": [
    "current_day = 0\n",
    "sales_dff = pd.DataFrame(columns=['Store', 'Day', 'Sales','Lost Sales','Demand','Inventory'])"
   ]
  },
  {
   "cell_type": "code",
   "execution_count": 12,
   "id": "65c5f302",
   "metadata": {},
   "outputs": [],
   "source": [
    "def update_inventory(current_day):\n",
    "    global sales_dff\n",
    "    for i in current_inventory.keys():\n",
    "        \n",
    "        todays_sales = {i: max(0,int(np.random.normal(daily_demands[(i)][current_day][0], daily_demands[(i)][current_day][1])))}\n",
    "        actual_sales = min(todays_sales[i], current_inventory[i])\n",
    "        lost_sales = max(0, todays_sales[i] - current_inventory[i])\n",
    "        current_inventory[i] = current_inventory[i]-actual_sales\n",
    "        new_row = pd.DataFrame({'Store': [i], 'Day': [current_day], 'Sales': [actual_sales],'Lost Sales':lost_sales,'Demand':todays_sales[i],'Inventory':current_inventory[i]})\n",
    "        sales_dff = pd.concat([sales_dff, new_row], ignore_index=True)\n",
    "\n",
    "    return current_inventory   "
   ]
  },
  {
   "cell_type": "code",
   "execution_count": 13,
   "id": "870ffc68",
   "metadata": {
    "scrolled": true,
    "tags": []
   },
   "outputs": [
    {
     "name": "stdout",
     "output_type": "stream",
     "text": [
      "{1: 17894, 2: 16980, 3: 17186, 4: 16946, 5: 17130, 6: 18052, 7: 18470, 8: 16493, 9: 18373, 10: 17876}\n",
      "    Store  Day  Sales  Lost Sales  Demand  Inventory  Week   Cost\n",
      "0       1    0     84           0      84        216     1  17894\n",
      "1       2    0     21           0      21        279     1  17894\n",
      "2       3    0     21           0      21         79     1  17894\n",
      "3       4    0     16           0      16         84     1  17894\n",
      "4       5    0     16           0      16         34     1  17894\n",
      "..    ...  ...    ...         ...     ...        ...   ...    ...\n",
      "625     5    6      0          16      16          0    10  17876\n",
      "626     6    6     22           0      22        126    10  17876\n",
      "627     7    6      0          21      21          0    10  17876\n",
      "628     8    6      0          19      19          0    10  17876\n",
      "629     9    6      0          22      22          0    10  17876\n",
      "\n",
      "[630 rows x 8 columns]\n"
     ]
    }
   ],
   "source": [
    "current_time=time.time()\n",
    "\n",
    "results = pd.DataFrame()\n",
    "cost_dict={}\n",
    "for week in range(10):\n",
    "    current_inventory = reset_inventory()\n",
    "    sales_dff = pd.DataFrame()\n",
    "\n",
    "    for day in range(7):\n",
    "        daily_inventory=update_inventory(day)\n",
    "\n",
    "    weekly_cost=(sales_dff[\"Lost Sales\"].sum()*costs[\"stockout\"])+(sales_dff[\"Inventory\"].sum()*costs[\"holding\"])   \n",
    "    cost_dict[week+1]=weekly_cost\n",
    "    sales_dff[\"Week\"]=week+1\n",
    "    sales_dff[\"Cost\"]=weekly_cost\n",
    "    results = pd.concat([results,sales_dff], ignore_index=True)\n",
    "print(cost_dict)    \n",
    "print(results)\n",
    "\n",
    "\n",
    "        \n",
    "        \n",
    "        \n",
    "        \n",
    "        \n",
    "            \n",
    "                       \n",
    "                \n",
    "               "
   ]
  },
  {
   "cell_type": "code",
   "execution_count": null,
   "id": "8118c0fe",
   "metadata": {},
   "outputs": [],
   "source": []
  },
  {
   "cell_type": "code",
   "execution_count": null,
   "id": "06a05651",
   "metadata": {},
   "outputs": [],
   "source": []
  },
  {
   "cell_type": "code",
   "execution_count": null,
   "id": "c79eeab9",
   "metadata": {},
   "outputs": [],
   "source": []
  }
 ],
 "metadata": {
  "kernelspec": {
   "display_name": "Python [conda env:base] *",
   "language": "python",
   "name": "conda-base-py"
  },
  "language_info": {
   "codemirror_mode": {
    "name": "ipython",
    "version": 3
   },
   "file_extension": ".py",
   "mimetype": "text/x-python",
   "name": "python",
   "nbconvert_exporter": "python",
   "pygments_lexer": "ipython3",
   "version": "3.12.7"
  }
 },
 "nbformat": 4,
 "nbformat_minor": 5
}
