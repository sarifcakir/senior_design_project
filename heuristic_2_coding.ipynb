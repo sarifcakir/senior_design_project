{
 "cells": [
  {
   "cell_type": "code",
   "execution_count": 100,
   "id": "c22e1679",
   "metadata": {},
   "outputs": [],
   "source": [
    "from gurobipy import Model, GRB\n",
    "import numpy as np\n",
    "import math"
   ]
  },
  {
   "cell_type": "code",
   "execution_count": 101,
   "id": "5d4c34f5",
   "metadata": {},
   "outputs": [],
   "source": [
    "current_inventory = {'1': 200,\n",
    "                    '2': 10,\n",
    "                    '3': 120,\n",
    "                    '4': 120,\n",
    "                    '5': 70,\n",
    "                    '6': 120,\n",
    "                    '7': 50,\n",
    "                    '8': 120,\n",
    "                    '9': 10}"
   ]
  },
  {
   "cell_type": "code",
   "execution_count": 102,
   "id": "2064b48a",
   "metadata": {},
   "outputs": [],
   "source": [
    "current_day = 1\n",
    "num_stores = 9"
   ]
  },
  {
   "cell_type": "code",
   "execution_count": 103,
   "id": "20186c7a",
   "metadata": {},
   "outputs": [],
   "source": [
    "daily_demands = {'1': [(83,5.8), (15,7), (20,4), (25,6), (10,6), (10,7), (20,4)],\n",
    "                '2': [(20,5), (15,7), (20,4), (25,6), (10,6), (10,7), (20,4)],\n",
    "                '3': [(20,5), (15,7), (20,4), (25,6), (10,6), (10,7), (20,4)],\n",
    "                '4': [(20,5), (15,7), (20,4), (25,6), (10,6), (10,7), (20,4)],\n",
    "                '5': [(20,5), (15,7), (20,4), (25,6), (10,6), (10,7), (20,4)],\n",
    "                '6': [(20,5), (15,7), (20,4), (25,6), (10,6), (10,7), (20,4)],\n",
    "                '7': [(20,5), (15,7), (20,4), (25,6), (10,6), (8,5), (20,4)],\n",
    "                '8': [(20,5), (15,7), (20,4), (25,6), (10,6), (6,2), (20,4)],\n",
    "                '9': [(20,5), (15,7), (20,4), (25,6), (10,6), (10,7), (20,4)]}"
   ]
  },
  {
   "cell_type": "code",
   "execution_count": 104,
   "id": "bac1094c",
   "metadata": {},
   "outputs": [],
   "source": [
    "costs = {'stockout': 30,\n",
    "        'holding': 1,\n",
    "        'transshipment': 1}"
   ]
  },
  {
   "cell_type": "code",
   "execution_count": 105,
   "id": "2c8cce1d",
   "metadata": {},
   "outputs": [],
   "source": [
    "def convolution(store_id, start_day):\n",
    "    \n",
    "    store_data = daily_demands[store_id]\n",
    "    future_data = store_data[start_day:]\n",
    "    mean_values = [mean for mean, _ in future_data]\n",
    "    std_dev_values = [std_dev for _, std_dev in future_data]\n",
    "    convoluted_mean = sum(mean_values)\n",
    "    convoluted_st_dev = math.sqrt(sum(x**2 for x in std_dev_values))\n",
    "    return convoluted_mean, convoluted_st_dev"
   ]
  },
  {
   "cell_type": "code",
   "execution_count": 106,
   "id": "646bb3d3",
   "metadata": {},
   "outputs": [
    {
     "data": {
      "text/plain": [
       "(100, 14.212670403551895)"
      ]
     },
     "execution_count": 106,
     "metadata": {},
     "output_type": "execute_result"
    }
   ],
   "source": [
    "convolution('2', current_day)"
   ]
  },
  {
   "cell_type": "code",
   "execution_count": 107,
   "id": "8ab9d062",
   "metadata": {},
   "outputs": [
    {
     "data": {
      "text/plain": [
       "0.9666666666666667"
      ]
     },
     "execution_count": 107,
     "metadata": {},
     "output_type": "execute_result"
    }
   ],
   "source": [
    "ratio = (costs['stockout'] - costs['transshipment']) / (costs['stockout'] + costs['holding'] - costs['transshipment'])\n",
    "ratio"
   ]
  },
  {
   "cell_type": "code",
   "execution_count": 108,
   "id": "65c5f302",
   "metadata": {},
   "outputs": [],
   "source": [
    "def update_inventory(minus):\n",
    "\n",
    "    for store in current_inventory:\n",
    "        current_inventory[store] -= minus.get(store, 0)"
   ]
  },
  {
   "cell_type": "code",
   "execution_count": 62,
   "id": "29616fe5",
   "metadata": {},
   "outputs": [],
   "source": [
    "todays_sales = {'1': 10,\n",
    "                    '2': 50,\n",
    "                    '3': 20,\n",
    "                    '4': 20,\n",
    "                    '5': 20,\n",
    "                    '6': 20,\n",
    "                    '7': 20,\n",
    "                    '8': 20,\n",
    "                    '9': 20}"
   ]
  },
  {
   "cell_type": "code",
   "execution_count": 64,
   "id": "88b54fe5",
   "metadata": {},
   "outputs": [],
   "source": [
    "update_inventory(todays_sales)"
   ]
  },
  {
   "cell_type": "code",
   "execution_count": 109,
   "id": "e0660a26",
   "metadata": {},
   "outputs": [
    {
     "data": {
      "text/plain": [
       "{'1': 200,\n",
       " '2': 10,\n",
       " '3': 120,\n",
       " '4': 120,\n",
       " '5': 70,\n",
       " '6': 120,\n",
       " '7': 50,\n",
       " '8': 120,\n",
       " '9': 10}"
      ]
     },
     "execution_count": 109,
     "metadata": {},
     "output_type": "execute_result"
    }
   ],
   "source": [
    "current_inventory"
   ]
  },
  {
   "cell_type": "code",
   "execution_count": 122,
   "id": "0b41523e",
   "metadata": {},
   "outputs": [],
   "source": [
    "shipper_cand = []\n",
    "def shipper_candidates(current_inventory, current_day):\n",
    "    for i in current_inventory.keys():\n",
    "        mean, st_dev = convolution(i, current_day)\n",
    "        critical_point = mean + (ratio*st_dev)\n",
    "        if critical_point < current_inventory[i]:\n",
    "            print(f\"for store {i} critical point, current inventory: {critical_point, current_inventory[i]}\")\n",
    "            shipper_cand.append(i)\n",
    "    return shipper_cand"
   ]
  },
  {
   "cell_type": "code",
   "execution_count": 123,
   "id": "d736ddea",
   "metadata": {},
   "outputs": [
    {
     "name": "stdout",
     "output_type": "stream",
     "text": [
      "for store 1 critical point, current inventory: (113.7389147234335, 200)\n",
      "for store 3 critical point, current inventory: (113.7389147234335, 120)\n",
      "for store 4 critical point, current inventory: (113.7389147234335, 120)\n",
      "for store 6 critical point, current inventory: (113.7389147234335, 120)\n",
      "for store 8 critical point, current inventory: (108.11229861660361, 120)\n"
     ]
    },
    {
     "data": {
      "text/plain": [
       "['1', '3', '4', '6', '8']"
      ]
     },
     "execution_count": 123,
     "metadata": {},
     "output_type": "execute_result"
    }
   ],
   "source": [
    "shipper_candidates(current_inventory, current_day)"
   ]
  },
  {
   "cell_type": "code",
   "execution_count": 124,
   "id": "18da72aa",
   "metadata": {},
   "outputs": [],
   "source": [
    "receiving_cand = []\n",
    "def receiving_candidates(current_inventory, current_day):\n",
    "    for i in current_inventory.keys():\n",
    "        mean, st_dev = convolution(i, current_day)\n",
    "        critical_point = mean - (ratio*st_dev)\n",
    "        if critical_point > current_inventory[i]:\n",
    "            print(f\"for store {i} critical point, current inventory: {critical_point, current_inventory[i]}\")\n",
    "            receiving_cand.append(i)\n",
    "    return receiving_cand"
   ]
  },
  {
   "cell_type": "code",
   "execution_count": 125,
   "id": "9ce4b5ef",
   "metadata": {},
   "outputs": [
    {
     "name": "stdout",
     "output_type": "stream",
     "text": [
      "for store 2 critical point, current inventory: (86.2610852765665, 10)\n",
      "for store 5 critical point, current inventory: (86.2610852765665, 70)\n",
      "for store 7 critical point, current inventory: (85.10305807134455, 50)\n",
      "for store 9 critical point, current inventory: (86.2610852765665, 10)\n"
     ]
    },
    {
     "data": {
      "text/plain": [
       "['2', '5', '7', '9']"
      ]
     },
     "execution_count": 125,
     "metadata": {},
     "output_type": "execute_result"
    }
   ],
   "source": [
    "receiving_candidates(current_inventory, current_day)"
   ]
  },
  {
   "cell_type": "code",
   "execution_count": 114,
   "id": "ba1e24ec",
   "metadata": {},
   "outputs": [
    {
     "name": "stdout",
     "output_type": "stream",
     "text": [
      "Restricted license - for non-production use only - expires 2025-11-24\n"
     ]
    }
   ],
   "source": [
    "model = Model(\"Lateral Transshipments\")"
   ]
  },
  {
   "cell_type": "code",
   "execution_count": 129,
   "id": "f3ec5446",
   "metadata": {},
   "outputs": [],
   "source": [
    "shippers = list(map(int, shipper_cand))\n",
    "receivers = list(map(int, receiving_cand))"
   ]
  },
  {
   "cell_type": "code",
   "execution_count": 126,
   "id": "30d70fc7",
   "metadata": {},
   "outputs": [],
   "source": [
    "x = model.addVars(list(map(int, shipper_cand)), list(map(int, receiving_cand)), lb=0, vtype=GRB.CONTINUOUS, name='x')"
   ]
  },
  {
   "cell_type": "code",
   "execution_count": 128,
   "id": "870ffc68",
   "metadata": {},
   "outputs": [
    {
     "name": "stdout",
     "output_type": "stream",
     "text": [
      "<class 'list'>\n",
      "<class 'function'>\n"
     ]
    }
   ],
   "source": [
    "# nested for loop\n",
    "model.setObjective(\n",
    "    sum(costs['stockout'] * max(0, sum(d[0] for d in daily_demands[j]) - (current_inventory[j] + sum(x[i, j] for i in shippers))) for j in receivers) +\n",
    "    sum(costs['transshipment'] * x[i, j] for i in shippers for j in receivers),\n",
    "    GRB.MINIMIZE\n",
    ")"
   ]
  },
  {
   "cell_type": "code",
   "execution_count": null,
   "id": "14758035",
   "metadata": {},
   "outputs": [],
   "source": []
  }
 ],
 "metadata": {
  "kernelspec": {
   "display_name": "Python 3 (ipykernel)",
   "language": "python",
   "name": "python3"
  },
  "language_info": {
   "codemirror_mode": {
    "name": "ipython",
    "version": 3
   },
   "file_extension": ".py",
   "mimetype": "text/x-python",
   "name": "python",
   "nbconvert_exporter": "python",
   "pygments_lexer": "ipython3",
   "version": "3.11.5"
  }
 },
 "nbformat": 4,
 "nbformat_minor": 5
}
