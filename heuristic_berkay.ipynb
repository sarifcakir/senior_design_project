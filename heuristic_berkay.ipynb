{
 "cells": [
  {
   "cell_type": "code",
   "execution_count": null,
   "id": "c22e1679",
   "metadata": {},
   "outputs": [],
   "source": [
    "import pandas as pd\n",
    "import numpy as np\n",
    "import math"
   ]
  },
  {
   "cell_type": "code",
   "execution_count": null,
   "id": "5d4c34f5",
   "metadata": {},
   "outputs": [],
   "source": [
    "current_inventory = {'1': 300,\n",
    "                    '2': 300,\n",
    "                    '3': 100,\n",
    "                    '4': 100,\n",
    "                    '5': 50,\n",
    "                    '6': 250,\n",
    "                    '7': 10,\n",
    "                    '8': 0,\n",
    "                    '9': 1}"
   ]
  },
  {
   "cell_type": "code",
   "execution_count": null,
   "id": "2064b48a",
   "metadata": {},
   "outputs": [],
   "source": [
    "num_stores = 9\n",
    "current_day = 0"
   ]
  },
  {
   "cell_type": "code",
   "execution_count": null,
   "id": "20186c7a",
   "metadata": {},
   "outputs": [],
   "source": [
    "daily_demands = {'1': [(83,5.8), (15,7), (20,4), (25,6), (10,6), (83,5.8), (20,4)],\n",
    "                '2': [(20,5), (15,7), (20,4), (25,6), (10,6), (10,7), (20,4)],\n",
    "                '3': [(20,5), (15,7), (20,4), (25,6), (10,6), (10,7), (20,4)],\n",
    "                '4': [(20,5), (15,7), (20,4), (25,6), (10,6), (10,7), (20,4)],\n",
    "                '5': [(20,5), (15,7), (20,4), (25,6), (10,6), (10,7), (20,4)],\n",
    "                '6': [(20,5), (15,7), (20,4), (25,6), (10,6), (10,7), (20,4)],\n",
    "                '7': [(20,5), (15,7), (20,4), (25,6), (10,6), (8,5), (20,4)],\n",
    "                '8': [(20,5), (15,7), (20,4), (25,6), (10,6), (6,2), (20,4)],\n",
    "                '9': [(20,5), (15,7), (20,4), (25,6), (10,6), (10,7), (20,4)]}"
   ]
  },
  {
   "cell_type": "code",
   "execution_count": null,
   "id": "bac1094c",
   "metadata": {},
   "outputs": [],
   "source": [
    "costs = {'stockout': 30,\n",
    "        'holding': 1,\n",
    "        'transshipment': 1}"
   ]
  },
  {
   "cell_type": "code",
   "execution_count": null,
   "id": "2c8cce1d",
   "metadata": {},
   "outputs": [],
   "source": [
    "def convolution(store_id, start_day):\n",
    "    \n",
    "    store_data = daily_demands[store_id]\n",
    "    future_data = store_data[start_day:]\n",
    "    mean_values = [mean for mean, _ in future_data]\n",
    "    std_dev_values = [std_dev for _, std_dev in future_data]\n",
    "    convoluted_mean = sum(mean_values)\n",
    "    convoluted_st_dev = math.sqrt(sum(x**2 for x in std_dev_values))\n",
    "    return convoluted_mean, convoluted_st_dev"
   ]
  },
  {
   "cell_type": "code",
   "execution_count": null,
   "id": "646bb3d3",
   "metadata": {},
   "outputs": [],
   "source": [
    "convolution('1', current_day)"
   ]
  },
  {
   "cell_type": "code",
   "execution_count": null,
   "id": "8ab9d062",
   "metadata": {},
   "outputs": [],
   "source": [
    "ratio = (costs['stockout'] - costs['transshipment']) / (costs['stockout'] + costs['holding'] - costs['transshipment'])\n",
    "ratio"
   ]
  },
  {
   "cell_type": "code",
   "execution_count": null,
   "id": "3b903631",
   "metadata": {},
   "outputs": [],
   "source": [
    "current_day = 0"
   ]
  },
  {
   "cell_type": "code",
   "execution_count": null,
   "id": "65c5f302",
   "metadata": {},
   "outputs": [],
   "source": [
    "def update_inventory(i,current_day):\n",
    "    todays_sales = {i: int(np.random.normal(daily_demands[(i)][current_day][0], daily_demands[(i)][current_day][1])),\n",
    "                    }\n",
    "    current_inventory[i] = max(0, current_inventory[i] - todays_sales[i])\n",
    "    \n",
    "    return current_inventory   "
   ]
  },
  {
   "cell_type": "code",
   "execution_count": null,
   "id": "0b41523e",
   "metadata": {},
   "outputs": [],
   "source": [
    "def shipper_candidates(current_day):\n",
    "    shipper_cand = []\n",
    "   \n",
    "    \n",
    "    for i in current_inventory.keys():\n",
    "        mean, st_dev = convolution(i, current_day)\n",
    "        critical_point = mean + (ratio*st_dev)\n",
    "        \n",
    "        if critical_point < update_inventory(str(i),current_day)[i]:\n",
    "            shipper_cand.append(i)\n",
    "    return shipper_cand"
   ]
  },
  {
   "cell_type": "code",
   "execution_count": null,
   "id": "18da72aa",
   "metadata": {},
   "outputs": [],
   "source": [
    "def receiving_candidates(current_day):\n",
    "    receiving_cand = []\n",
    "    for i in current_inventory.keys():\n",
    "        mean, st_dev = convolution(i, current_day)\n",
    "        critical_point = mean - (ratio*st_dev)\n",
    "      \n",
    "        if critical_point > current_inventory[i]:\n",
    "            receiving_cand.append(i)\n",
    "    return receiving_cand"
   ]
  },
  {
   "cell_type": "code",
   "execution_count": null,
   "id": "870ffc68",
   "metadata": {
    "tags": []
   },
   "outputs": [],
   "source": [
    "\n",
    "weekly_df = pd.DataFrame(columns=[\"day\", \"shipper\", \"receiver\", \"transshipment_amount\"])\n",
    "current_day = 0\n",
    "a=5\n",
    "for i in range(a+1):\n",
    "    if current_day <= 5:\n",
    "        shipping_list=shipper_candidates(current_day)\n",
    "        receiving_list=receiving_candidates(current_day)\n",
    "        daily_df = pd.DataFrame(columns=[\"shipper\", \"receiver\", \"transshipment_amount\", \"transshipment_cost\"])\n",
    "        for i in shipping_list:\n",
    "            mean,stdev=convolution(i,current_day)\n",
    "            for k in receiving_list:\n",
    "                mean2,stdev2=convolution(k,current_day)\n",
    "                best_x = 0\n",
    "                min_cost = float('inf')\n",
    "                inv=current_inventory[i]\n",
    "                inv2=current_inventory[k]\n",
    "                hold_d = dict()\n",
    "                x_values=np.arange(0,inv,5)\n",
    "                for x in x_values:\n",
    "                    hold_d[str(x)] = 0\n",
    "                    sum_cost=0\n",
    "                    for number in range(100):\n",
    "                        exp_shipping=np.random.normal(mean,stdev)\n",
    "                        exp_receiver=np.random.normal(mean2,stdev2)\n",
    "                        cost = (costs['stockout'] * max(0, exp_receiver - (current_inventory[k] + x))) + \\\n",
    "                       (costs['stockout'] * max(0, exp_shipping - (current_inventory[i] - x))) + \\\n",
    "                       (costs['transshipment'] * x)\n",
    "                        sum_cost+=cost\n",
    "                        \n",
    "                    expected_cost=sum_cost/100\n",
    "                    hold_d[str(x)] = expected_cost\n",
    "                \n",
    "                best_x, min_cost = min(hold_d.items(), key=lambda x: x[1])\n",
    "                daily_df = pd.concat([daily_df, pd.DataFrame([{\n",
    "                \"shipper\": i,\n",
    "                \"receiver\": k,\n",
    "                \"transshipment_amount\": best_x,\n",
    "                \"transshipment_cost\": min_cost\n",
    "        }])], ignore_index=True)\n",
    "        print(daily_df)\n",
    "        \n",
    "        while not daily_df.empty:\n",
    "            \n",
    "            min_idx = daily_df[\"transshipment_cost\"].idxmin()\n",
    "            min_cost_row = daily_df.loc[min_idx]\n",
    "            deleted_shipper = min_cost_row[\"shipper\"]\n",
    "            deleted_receiver = min_cost_row[\"receiver\"]\n",
    "            transhipment_amount = daily_df.loc[min_idx, \"transshipment_amount\"]\n",
    "            print(deleted_shipper)\n",
    "            print(deleted_receiver)\n",
    "            print(transhipment_amount)\n",
    "            current_inventory[str(deleted_shipper)] = current_inventory[str(deleted_shipper)] - int(transhipment_amount)\n",
    "            current_inventory[str(deleted_receiver)] = current_inventory[str(deleted_receiver)] + int(transhipment_amount)\n",
    "            \n",
    "            weekly_df = pd.concat([weekly_df, pd.DataFrame([{\n",
    "                \"day\": current_day,\n",
    "                \"shipper\": deleted_shipper,\n",
    "                \"receiver\": deleted_receiver,\n",
    "                \"transshipment_amount\": transhipment_amount\n",
    "    \n",
    "        }])], ignore_index=True)\n",
    "        \n",
    "            daily_df = daily_df[(daily_df[\"shipper\"] != deleted_shipper) & (daily_df[\"receiver\"] != deleted_receiver)]\n",
    "            print(daily_df)\n",
    "        print(\"Hnagi gün:\",current_day)    \n",
    "        current_day = current_day + 1   \n",
    "    print(weekly_df),\n",
    "    print(current_inventory)\n",
    "if current_day == 6:\n",
    "    for i in current_inventory.keys():\n",
    "            \n",
    "        mean,stdev=daily_demands[i][current_day]\n",
    "        current_inventory[i]=max(0, current_inventory[i]-int(np.random.normal(mean,stdev)))\n",
    "print(current_inventory)          "
   ]
  },
  {
   "cell_type": "code",
   "execution_count": null,
   "id": "25f6d8f2",
   "metadata": {},
   "outputs": [],
   "source": []
  },
  {
   "cell_type": "code",
   "execution_count": null,
   "id": "2172f983",
   "metadata": {},
   "outputs": [],
   "source": []
  },
  {
   "cell_type": "code",
   "execution_count": null,
   "id": "c79eeab9",
   "metadata": {},
   "outputs": [],
   "source": []
  }
 ],
 "metadata": {
  "kernelspec": {
   "display_name": "Python 3 (ipykernel)",
   "language": "python",
   "name": "python3"
  },
  "language_info": {
   "codemirror_mode": {
    "name": "ipython",
    "version": 3
   },
   "file_extension": ".py",
   "mimetype": "text/x-python",
   "name": "python",
   "nbconvert_exporter": "python",
   "pygments_lexer": "ipython3",
   "version": "3.11.5"
  }
 },
 "nbformat": 4,
 "nbformat_minor": 5
}
